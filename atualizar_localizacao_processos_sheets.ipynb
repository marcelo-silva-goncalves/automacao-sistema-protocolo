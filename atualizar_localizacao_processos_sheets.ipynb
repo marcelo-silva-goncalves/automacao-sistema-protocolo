{
 "cells": [
  {
   "cell_type": "code",
   "execution_count": 1,
   "metadata": {},
   "outputs": [],
   "source": [
    "# Importando bibliotecas\n",
    "import os.path\n",
    "import pandas as pd\n",
    "from google.oauth2.credentials import Credentials\n",
    "from google_auth_oauthlib.flow import InstalledAppFlow\n",
    "from googleapiclient.discovery import build\n",
    "from google.auth.transport.requests import Request\n",
    "from googleapiclient.discovery import build"
   ]
  },
  {
   "cell_type": "markdown",
   "metadata": {},
   "source": [
    "**1. ATUALIZADO PLANILHA DO GOOGLE SHEETS**"
   ]
  },
  {
   "cell_type": "code",
   "execution_count": 16,
   "metadata": {},
   "outputs": [],
   "source": [
    "# Carregando planilhas excel em dataframes\n",
    "planilha_google_sheets_df = pd.read_excel('planilha_google_sheets.xlsx')\n",
    "planilha_localizacao_df = pd.read_excel('planilha_localizacao.xlsx')"
   ]
  },
  {
   "cell_type": "code",
   "execution_count": 5,
   "metadata": {},
   "outputs": [],
   "source": [
    "# Realiza o merge dos DataFrames com base na coluna \"numero do processo\"\n",
    "\n",
    "planilha_atualizada_df = planilha_google_sheets_df.merge(planilha_localizacao_df,\n",
    "    left_on='Nº DO PROCESSO',\n",
    "    right_on='Nº DO PROCESSO',\n",
    "    how='left'\n",
    ")"
   ]
  },
  {
   "cell_type": "code",
   "execution_count": 7,
   "metadata": {},
   "outputs": [],
   "source": [
    "# Tratamento da planilha após união dos dataframes\n",
    "# Excluindo a coluna LOCALIZAÇÃO_x\n",
    "planilha_atualizada_df = planilha_atualizada_df.drop('LOCALIZAÇÃO_x', axis=1) \n",
    "# Renomeando coluna com os dados atualizados para o nome inical da planilha no google sheets\n",
    "planilha_atualizada_df.rename(columns={'LOCALIZAÇÃO_y': 'LOCALIZAÇÃO'}, inplace=True) \n",
    "# Ordenando s colunas conforme planilha inicial do google sheets\n",
    "planilha_gooogle_sheets_atualizada_df = planilha_atualizada_df[\n",
    "       ['OBJETO', 'ANO DA DEMANDA', 'Nº DO PROCESSO', 'DATA DO PROCESSO',\n",
    "       'PROCESSO FINDOU EM', 'DIAS TRAMITADOS', 'MODALIDADE DE LICITAÇÃO',\n",
    "       'TIPO', 'VALOR GLOBAL', 'SITUAÇÃO', 'LOCALIZAÇÃO', 'OBSERVAÇÃO']\n",
    "]"
   ]
  },
  {
   "cell_type": "markdown",
   "metadata": {},
   "source": [
    "**INÍCIO DO SCRIPT PARA ACESSAR O GOOGLE SHEETS**"
   ]
  },
  {
   "cell_type": "code",
   "execution_count": 9,
   "metadata": {},
   "outputs": [],
   "source": [
    "# Escopo para o acesso - login\n",
    "SCOPES = ['https://www.googleapis.com/auth/spreadsheets']\n",
    "# Tentar ler as credenciais do arquivo token.json\n",
    "creds = None\n",
    "if os.path.exists('token.json'):\n",
    "    creds = Credentials.from_authorized_user_file('token.json', SCOPES)\n",
    "\n",
    "# Se não houver credenciais válidas, solicite que o usuário o login\n",
    "if not creds or not creds.valid:\n",
    "    if creds and creds.expired and creds.refresh_token:\n",
    "        creds.refresh(Request())\n",
    "    else:\n",
    "        flow = InstalledAppFlow.from_client_secrets_file('credentials.json', SCOPES)\n",
    "        creds = flow.run_local_server(port=0)\n",
    "\n",
    "    # Salvar as credenciais para a próxima execução\n",
    "    with open('token.json', 'w') as token:\n",
    "        token.write(creds.to_json())"
   ]
  },
  {
   "cell_type": "code",
   "execution_count": 10,
   "metadata": {},
   "outputs": [],
   "source": [
    "# Apontar o ID da planilha do Google Sheets\n",
    "SPREADSHEET_ID = '1X3I2in2Cr6KmnAG4tMWzaucwz-nre84bXaSYXR-sH2g'\n",
    "# Apontar o intervalo de células que deseja executar a leitura\n",
    "RANGE_NAME = 'PLANILHA DESCRITIVA INTEGRAL!A:L'\n",
    "# Ciação da variável 'serviço' para acessar a API do Google Sheets\n",
    "service = build('sheets', 'v4', credentials=creds)\n",
    "# Leitura dos dados da planilha do Google Sheets\n",
    "result = service.spreadsheets().values().get(spreadsheetId=SPREADSHEET_ID, range=RANGE_NAME).execute()\n",
    "values = result.get('values')"
   ]
  },
  {
   "cell_type": "code",
   "execution_count": 11,
   "metadata": {},
   "outputs": [
    {
     "name": "stdout",
     "output_type": "stream",
     "text": [
      "['NCIN', 'GABS', 'DSO', 'SCOM', 'SCOM', 'DAF', 'COLG', 'COFI', 'COFI', 'FISCON', 'CORI', 'COFI', 'SAENG', 'SCOM', 'CJUR', 'COFI', 'CJUR', 'NCIN', 'CORI', 'SCOM', 'NCIN', 'NCIN', 'COFI', 'DAF', 'DAF', 'SAENG', 'GABS', 'DAF', 'NCIN', 'CORV', 'SCOM', 'NCIN', 'DAF', 'ALMOX', 'CSEP', 'NCIN', 'COFI', 'NCIN', 'DAF', 'SAENG', 'COLG', 'COLG', 'DAF']\n",
      "Coluna 'LOCALIZAÇÃO' atualizada com sucesso!\n"
     ]
    }
   ],
   "source": [
    "# Extrair os valores da coluna \"LOCALIZAÇÃO\" do DataFrame planilha_google_sheets-atualizada_df\n",
    "dados_atualizados = planilha_gooogle_sheets_atualizada_df['LOCALIZAÇÃO'].tolist()\n",
    "# Obter o intervalo das células da coluna \"LOCALIZAÇÃO\" para atualização\n",
    "nome_intervalo = \"PLANILHA DESCRITIVA INTEGRAL!K2:\" + str(len(dados_atualizados) + 1)\n",
    "# Formatar os dados para atualização no formato aceito pelo Google Sheets API\n",
    "dados_formatados = [[localizacao] for localizacao in dados_atualizados]\n",
    "#Agora você pode atualizar a coluna \"LOCALIZAÇÃO\" na planilha no Google Sheets\n",
    "service.spreadsheets().values().update(\n",
    "    spreadsheetId=SPREADSHEET_ID,\n",
    "    range=nome_intervalo,\n",
    "    valueInputOption='RAW',\n",
    "    body={'values': dados_formatados}\n",
    ").execute()"
   ]
  },
  {
   "cell_type": "code",
   "execution_count": 12,
   "metadata": {},
   "outputs": [],
   "source": [
    "# Filtrar as linhas onde a coluna 'SITUAÇÃO' é diferente de 'FINALIZADO'\n",
    "\n",
    "plan_atualizada_df = planilha_atualizada_df.loc[\n",
    "    planilha_atualizada_df['SITUAÇÃO'] != 'FINALIZADO', ['OBJETO', 'Nº DO PROCESSO', 'LOCALIZAÇÃO']\n",
    "]"
   ]
  },
  {
   "cell_type": "code",
   "execution_count": 14,
   "metadata": {},
   "outputs": [],
   "source": [
    "# Salvar planilha em excel\n",
    "plan_atualizada_df.to_excel('planilha_sheets_gerencial_daf.xlsx', index=False)  # O parâmetro index=False evita a inclusão do índice no arquivo"
   ]
  },
  {
   "cell_type": "code",
   "execution_count": 15,
   "metadata": {},
   "outputs": [
    {
     "name": "stdout",
     "output_type": "stream",
     "text": [
      " Validadaação dos dados no google sheets realizada com sucesso!\n"
     ]
    }
   ],
   "source": [
    "print('Coluna \"LOCALIZAÇÃO\",na planilha no google sheets, atualizada com sucesso!')"
   ]
  }
 ],
 "metadata": {
  "kernelspec": {
   "display_name": "Python 3",
   "language": "python",
   "name": "python3"
  },
  "language_info": {
   "codemirror_mode": {
    "name": "ipython",
    "version": 3
   },
   "file_extension": ".py",
   "mimetype": "text/x-python",
   "name": "python",
   "nbconvert_exporter": "python",
   "pygments_lexer": "ipython3",
   "version": "3.10.11"
  },
  "orig_nbformat": 4
 },
 "nbformat": 4,
 "nbformat_minor": 2
}
