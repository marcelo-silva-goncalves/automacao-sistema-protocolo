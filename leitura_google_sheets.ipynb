{
 "cells": [
  {
   "cell_type": "code",
   "execution_count": 1,
   "metadata": {
    "dotnet_interactive": {
     "language": "csharp"
    },
    "polyglot_notebook": {
     "kernelName": "csharp"
    }
   },
   "outputs": [],
   "source": [
    "# Importando bibliotecas\n",
    "\n",
    "import pandas as pd\n",
    "import os.path\n",
    "from google.oauth2.credentials import Credentials\n",
    "from googleapiclient.discovery import build\n",
    "from google.auth.transport.requests import Request"
   ]
  },
  {
   "cell_type": "markdown",
   "metadata": {},
   "source": [
    "**INÍCIO DO SCRIPT PARA ACESSAR O GOOGLE SHEETS**"
   ]
  },
  {
   "cell_type": "code",
   "execution_count": 2,
   "metadata": {},
   "outputs": [],
   "source": [
    "# Escopo para o acesso - login\n",
    "\n",
    "SCOPES = ['https://www.googleapis.com/auth/spreadsheets']\n",
    "\n",
    "# Tentar ler as credenciais do arquivo token.json\n",
    "creds = None\n",
    "if os.path.exists('token.json'):\n",
    "    creds = Credentials.from_authorized_user_file('token.json', SCOPES)\n",
    "\n",
    "# Se não houver credenciais válidas, solicite que o usuário o login\n",
    "if not creds or not creds.valid:\n",
    "    if creds and creds.expired and creds.refresh_token:\n",
    "        creds.refresh(Request())\n",
    "    else:\n",
    "        flow = InstalledAppFlow.from_client_secrets_file('credentials.json', SCOPES)\n",
    "        creds = flow.run_local_server(port=0)\n",
    "\n",
    "    # Salvar as credenciais para a próxima execução\n",
    "    with open('token.json', 'w') as token:\n",
    "        token.write(creds.to_json())"
   ]
  },
  {
   "cell_type": "code",
   "execution_count": 3,
   "metadata": {},
   "outputs": [],
   "source": [
    "# Apontar o ID da planilha do Google Sheets\n",
    "SPREADSHEET_ID = '1X3I2in2Cr6KmnAG4tMWzaucwz-nre84bXaSYXR-sH2g'\n",
    "# Apontar o intervalo de células que deseja executar a leitura\n",
    "RANGE_NAME = 'PLANILHA DESCRITIVA INTEGRAL!A:L'\n",
    "# Ciação da variável 'service' para acessar a API do Google Sheets\n",
    "service = build('sheets', 'v4', credentials=creds)\n",
    "# Leitura dos dados da planilha do Google Sheets\n",
    "result = service.spreadsheets().values().get(spreadsheetId=SPREADSHEET_ID, range=RANGE_NAME).execute()\n",
    "values = result.get('values')"
   ]
  },
  {
   "cell_type": "code",
   "execution_count": 4,
   "metadata": {},
   "outputs": [],
   "source": [
    "# Criação de um DataFrame do pandas com os dados lidos\n",
    "planilha_df = pd.DataFrame(values[1:], columns=values[0])"
   ]
  },
  {
   "cell_type": "code",
   "execution_count": 5,
   "metadata": {},
   "outputs": [],
   "source": [
    "# Aplicando condivional para separar os processo PAE3 e PAE4\n",
    "proc_pae3 = [processo for processo in planilha_df['Nº DO PROCESSO'] if processo[0] != 'E']\n",
    "proc_pae4 = [processo for processo in planilha_df['Nº DO PROCESSO'] if processo[0] == 'E']"
   ]
  },
  {
   "cell_type": "code",
   "execution_count": 6,
   "metadata": {},
   "outputs": [],
   "source": [
    "# Salvar dataframe no formato excel\n",
    "planilha_df.to_excel('planilha_google_sheets.xlsx', index=False)"
   ]
  },
  {
   "cell_type": "code",
   "execution_count": 7,
   "metadata": {},
   "outputs": [],
   "source": [
    "# Separando as informaççoes de ano e processos\n",
    "'''Esse procedimento é necessário visto que a pagina web do sistema PAE3 de pesquisa possui campos\n",
    "distintos para tais informações.'''\n",
    "ano_pae3 = []\n",
    "processos_pae3 = []\n",
    "\n",
    "for proc in proc_pae3:\n",
    "    ano_pae3.append(proc.split('/')[0])\n",
    "    processos_pae3.append(proc.split('/')[-1])"
   ]
  },
  {
   "cell_type": "code",
   "execution_count": 8,
   "metadata": {},
   "outputs": [],
   "source": [
    "# Separando as informaççoes de ano e processos\n",
    "'''É necessário a retirada dos caracteeres 'E-' e não cabe a separação do ano e processo visto \n",
    "que a pagina web do sistema PAE4 de aceita apenas o interiro do oprocesso.'''\n",
    "processos_pae4 = []\n",
    "\n",
    "for proc in proc_pae4:\n",
    "    processos_pae4.append(proc.split('-')[1])"
   ]
  },
  {
   "cell_type": "code",
   "execution_count": 9,
   "metadata": {},
   "outputs": [
    {
     "name": "stdout",
     "output_type": "stream",
     "text": [
      "leitura do google sheets realizada com sucesso!\n"
     ]
    }
   ],
   "source": [
    "print('leitura do google sheets realizada com sucesso!')"
   ]
  }
 ],
 "metadata": {
  "kernelspec": {
   "display_name": "Python 3",
   "language": "python",
   "name": "python3"
  },
  "language_info": {
   "codemirror_mode": {
    "name": "ipython",
    "version": 3
   },
   "file_extension": ".py",
   "mimetype": "text/x-python",
   "name": "python",
   "nbconvert_exporter": "python",
   "pygments_lexer": "ipython3",
   "version": "3.10.11"
  },
  "orig_nbformat": 4
 },
 "nbformat": 4,
 "nbformat_minor": 2
}
