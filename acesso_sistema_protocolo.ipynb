{
 "cells": [
  {
   "cell_type": "code",
   "execution_count": 1,
   "metadata": {},
   "outputs": [
    {
     "name": "stdout",
     "output_type": "stream",
     "text": [
      "importing Jupyter notebook from leitura_google_sheets.ipynb\n",
      "leitura do google sheets realizada com sucesso!\n"
     ]
    }
   ],
   "source": [
    "# Importando bibliotecas\n",
    "import os\n",
    "from time import sleep\n",
    "import csv\n",
    "import import_ipynb\n",
    "import pandas as pd\n",
    "from selenium import webdriver\n",
    "from selenium.webdriver.common.by import By\n",
    "from selenium.webdriver.support.ui import WebDriverWait\n",
    "from selenium.webdriver.support import expected_conditions as EC\n",
    "from msedge.selenium_tools import Edge, EdgeOptions\n",
    "from credencial import username, password # Dados do login\n",
    "from leitura_google_sheets import ano_pae3, processos_pae3 # variáveis para uso nas funções\n",
    "from leitura_google_sheets import processos_pae4 # variáveis para uso nas funções"
   ]
  },
  {
   "cell_type": "markdown",
   "metadata": {},
   "source": [
    "**INÍCIO DO SCRIPT PARA PESQUISA DOS PROCESSOS NO PAE 3.0**"
   ]
  },
  {
   "cell_type": "code",
   "execution_count": 2,
   "metadata": {},
   "outputs": [],
   "source": [
    "# Crie uma instância do driver do Microsoft Edge\n",
    "driver = webdriver.Edge()\n",
    "driver.get('https://www.sistemas.pa.gov.br/governodigital/public/main/index.xhtml')\n",
    "driver.maximize_window()"
   ]
  },
  {
   "cell_type": "code",
   "execution_count": 3,
   "metadata": {},
   "outputs": [],
   "source": [
    "# Login no sistema\n",
    "wait = WebDriverWait(driver, 20)\n",
    "# Encontrar e preencher o campo de usuário\n",
    "click_usuario = wait.until(\n",
    "    EC.presence_of_element_located((By.XPATH,'//*[@id=\"form_login:login_username\"]')))\n",
    "click_usuario.send_keys(username)\n",
    "# Encontrar e preencher o campo de senha\n",
    "click_senha = wait.until(\n",
    "    EC.presence_of_element_located((By.XPATH, '//*[@id=\"form_login:login_password\"]')))\n",
    "click_senha.send_keys(password)\n",
    "# Clicar no botão de login\n",
    "botao_login = wait.until(\n",
    "    EC.element_to_be_clickable((By.XPATH, '//*[@id=\"form_login:button_login\"]')))\n",
    "botao_login.click()"
   ]
  },
  {
   "cell_type": "code",
   "execution_count": 4,
   "metadata": {},
   "outputs": [],
   "source": [
    "# Acesso PAE3\n",
    "# Armazene o identificador da janela atual\n",
    "current_window = driver.current_window_handle\n",
    "# Clique no elemento que abre a nova aba ou janela\n",
    "click_pae3 = driver.find_element(\n",
    "    By.XPATH,'//*[@id=\"form_sistema:submit_area\"]/div/div[3]/div[1]/a/img')\n",
    "click_pae3.click()\n",
    "# Aguarde a nova aba ou janela ser aberta\n",
    "wait.until(EC.number_of_windows_to_be(2))\n",
    "# Mudar para a nova aba ou janela\n",
    "for window_handle in driver.window_handles:\n",
    "    if window_handle != current_window:\n",
    "        driver.switch_to.window(window_handle)\n",
    "        break"
   ]
  },
  {
   "cell_type": "code",
   "execution_count": 5,
   "metadata": {},
   "outputs": [],
   "source": [
    "# Navegação dos menus até pesquisa de processos\n",
    "# Clique no menu 'Protocolo Eletrônico'\n",
    "proc_adm_ele = driver.find_element(\n",
    "    By.XPATH, '//*[@id=\"iconmenu_vert:panelMenuGroupProtocoloEletronico\"]')\n",
    "proc_adm_ele.click()\n",
    "# Aguarde até que o submenu 'Entrada e Saída' esteja visível e clicável\n",
    "entrada_saida = WebDriverWait(driver, 10).until(\n",
    "    EC.element_to_be_clickable((By.XPATH, '//*[@id=\"iconmenu_vert:j_id52\"]')))\n",
    "entrada_saida.click()\n",
    "# Aguarde até que o submenu 'Localizar Protocolo Eletrônico' esteja visível e clicável\n",
    "localizar_protocolo = WebDriverWait(driver, 20).until(\n",
    "    EC.element_to_be_clickable((By.XPATH, '//*[@id=\"iconmenu_vert:panelLocalizarProtocoloEletronico\"]')))\n",
    "localizar_protocolo.click()"
   ]
  },
  {
   "cell_type": "code",
   "execution_count": 6,
   "metadata": {},
   "outputs": [],
   "source": [
    "# Limpando o ano do espaço a ser utilizado para iniciar as pesquisas dos processos\n",
    "# Aguarde até que o campo de entrada de ano esteja visível e clicável\n",
    "entrada_ano = WebDriverWait(driver, 20).until(\n",
    "    EC.element_to_be_clickable((By.XPATH, '//*[@id=\"protocolo_consult_params:ano_protocolo\"]')))\n",
    "# Limpe o campo de entrada de ano\n",
    "entrada_ano.clear()"
   ]
  },
  {
   "cell_type": "code",
   "execution_count": 8,
   "metadata": {},
   "outputs": [],
   "source": [
    "# Iniciando as interações no PAE a fim de saber a localização dos processos\n",
    "local_processos3 = []\n",
    "\n",
    "def check_procesos(ano, processo):\n",
    "    for a, p in zip(ano, processo):\n",
    "        wait = WebDriverWait(driver, 10)\n",
    "        entrada_ano = wait.until(\n",
    "            EC.presence_of_element_located((By.XPATH, '//*[@id=\"protocolo_consult_params:ano_protocolo\"]')))\n",
    "        \n",
    "        sleep(1)\n",
    "        entrada_ano.clear()\n",
    "        entrada_ano.send_keys(a)\n",
    "        sleep(2)\n",
    "\n",
    "        click_processo = driver.find_element(\n",
    "            By.XPATH, '//*[@id=\"protocolo_consult_params:sequencial_protocolo\"]')\n",
    "        click_processo.clear()\n",
    "        click_processo.send_keys(p)\n",
    "        sleep(2)\n",
    "\n",
    "        click_pesquisa_processo = driver.find_element(\n",
    "            By.XPATH, '//*[@id=\"protocolo_consult_params:botaoPesquisar\"]')\n",
    "        click_pesquisa_processo.click()\n",
    "\n",
    "        # Aguardar até que a tabela com o resultado seja visível\n",
    "        wait = WebDriverWait(driver, 20)\n",
    "        setor_processo = wait.until(\n",
    "            EC.presence_of_element_located((By.XPATH, '//*[contains(@id, \"j_id609:table\")]')))\n",
    "\n",
    "        setor = setor_processo.text\n",
    "        local_processos3.append(setor)\n",
    "\n",
    "        # Navegação dos menus até a pesquisa de processos para reiniciar a página atual\n",
    "        proc_adm_ele = driver.find_element(\n",
    "            By.XPATH, '//*[@id=\"iconmenu_vert:panelMenuGroupProtocoloEletronico\"]').click()\n",
    "        sleep(1)\n",
    "        entrada_saida = driver.find_element(\n",
    "            By.XPATH, '//*[@id=\"iconmenu_vert:j_id52\"]').click()\n",
    "        sleep(1)\n",
    "        entrada_saida = driver.find_element(\n",
    "            By.XPATH, '//*[@id=\"iconmenu_vert:panelLocalizarProtocoloEletronico\"]').click()\n",
    "        sleep(3)\n",
    "        \n",
    "# Chamando as variáveis dos processos que serão utilizadas no loop de repetição\n",
    "ano = ano_pae3\n",
    "processo = processos_pae3\n",
    "# Chamando a função\n",
    "check_procesos(ano, processo)\n",
    "# Fechar o navegador após a conclusão\n",
    "driver.quit()"
   ]
  },
  {
   "cell_type": "code",
   "execution_count": 9,
   "metadata": {},
   "outputs": [],
   "source": [
    "# Tratamento para retirar apenas o setor onde os processos se encontram\n",
    "localizacao = []\n",
    "\n",
    "for setor in local_processos3: localizacao.append(setor.split('»')[-2].strip().split('-')[0])"
   ]
  },
  {
   "cell_type": "code",
   "execution_count": 10,
   "metadata": {},
   "outputs": [],
   "source": [
    "# Realizando a junção do ano com o porcesso\n",
    "processos_pae3_ = [f'{ano}/{processo}' for ano, processo in zip(ano_pae3, processos_pae3)]"
   ]
  },
  {
   "cell_type": "code",
   "execution_count": 11,
   "metadata": {},
   "outputs": [],
   "source": [
    "'''Criação de um dicionário com os dados para construção de um dataframe com \n",
    "dados do processo PAE3 e a localização atualizada'''\n",
    "\n",
    "data_proc_pae3 = {'Nº DO PROCESSO': processos_pae3_, 'LOCALIZAÇÃO': localizacao}\n",
    "tabela_localizacao_pae3 = pd.DataFrame(data_proc_pae3)"
   ]
  },
  {
   "cell_type": "markdown",
   "metadata": {},
   "source": [
    "**INÍCIO DO SCRIPT PARA PESQUISA DOS PROCESSOS NO PAE 4.0**"
   ]
  },
  {
   "cell_type": "code",
   "execution_count": 17,
   "metadata": {},
   "outputs": [],
   "source": [
    "# Crie uma instância do driver do Microsoft Edge\n",
    "driver = webdriver.Edge()\n",
    "# Abra o navegador\n",
    "driver.get('https://www.sistemas.pa.gov.br/governodigital/public/main/index.xhtml')\n",
    "driver.maximize_window()"
   ]
  },
  {
   "cell_type": "code",
   "execution_count": 18,
   "metadata": {},
   "outputs": [],
   "source": [
    "# Login no sistema\n",
    "wait = WebDriverWait(driver, 20)\n",
    "# Encontrar e preencher o campo de usuário\n",
    "click_usuario = wait.until(\n",
    "    EC.presence_of_element_located((By.XPATH,'//*[@id=\"form_login:login_username\"]')))\n",
    "click_usuario.send_keys(username)  # Dados do login estão no script credencial.py\n",
    "# Encontrar e preencher o campo de senha\n",
    "click_senha = wait.until(\n",
    "    EC.presence_of_element_located((By.XPATH, '//*[@id=\"form_login:login_password\"]')))\n",
    "click_senha.send_keys(password)  # Dados do login estão no script credencial.py\n",
    "# Clicar no botão de login\n",
    "botao_login = wait.until(\n",
    "    EC.element_to_be_clickable((By.XPATH, '//*[@id=\"form_login:button_login\"]')))\n",
    "botao_login.click()"
   ]
  },
  {
   "cell_type": "code",
   "execution_count": 19,
   "metadata": {},
   "outputs": [],
   "source": [
    "# Acesso ao PAE4\n",
    "# Armazene o identificador da janela atual\n",
    "current_window = driver.current_window_handle\n",
    "# Clique no elemento que abre a nova aba ou janela\n",
    "click_pae3 = driver.find_element(\n",
    "    By.XPATH,'//*[@id=\"form_sistema:submit_area\"]/div/div[2]/div[1]/a/img').click()\n",
    "# Aguarde a nova aba ou janela ser aberta\n",
    "wait.until(EC.number_of_windows_to_be(2))\n",
    "# Mudar para a nova aba ou janela\n",
    "for window_handle in driver.window_handles:\n",
    "    if window_handle != current_window:\n",
    "        driver.switch_to.window(window_handle)\n",
    "        break"
   ]
  },
  {
   "cell_type": "code",
   "execution_count": 20,
   "metadata": {},
   "outputs": [],
   "source": [
    "# Navegação dos menus até pesquisa de processos\n",
    "wait = WebDriverWait(driver, 30)\n",
    "# Aguardar até que o elemento \"Tramitados\" seja clicável\n",
    "proc_tramit = wait.until(\n",
    "    EC.element_to_be_clickable((By.XPATH, '//div[@class=\"q-item__label\"][contains(normalize-space(text()), \"Tramitados\")]')))\n",
    "driver.execute_script(\"arguments[0].click();\", proc_tramit)\n",
    "# Aguardar até que o filtro \"Filtrar (0 filtros ativos)\" seja clicável\n",
    "filtro = wait.until(\n",
    "    EC.element_to_be_clickable((By.XPATH, '//span[@class=\"block\"][text()=\"Filtrar (0 filtros ativos)\"]')))\n",
    "driver.execute_script(\"arguments[0].click();\", filtro)\n",
    "# Aguardar até que o campo \"Número do protocolo\" seja clicável\n",
    "add_num_proc = wait.until(\n",
    "    EC.element_to_be_clickable((By.XPATH, '//input[@aria-label=\"Número do protocolo\"]')))\n",
    "driver.execute_script(\"arguments[0].click();\", add_num_proc)"
   ]
  },
  {
   "cell_type": "code",
   "execution_count": 21,
   "metadata": {},
   "outputs": [],
   "source": [
    "# Iniciando as interações no PAE a fim de saber a localização dos processos\n",
    "local_processos4 = []\n",
    "\n",
    "def verificar_procesos(processos=list):\n",
    "        \n",
    "    for x in processos:     \n",
    "        wait = WebDriverWait(driver, 20)\n",
    "        \n",
    "        add_num_proc = driver.find_element(\n",
    "            By.XPATH,'//input[@aria-label=\"Número do protocolo\"]')\n",
    "        sleep(2)  \n",
    "            \n",
    "        add_num_proc.send_keys(x)\n",
    "        sleep(1)\n",
    "        click_pesquisa_proc = driver.find_element(\n",
    "            By.XPATH, '//span[@class=\"block\"][text()= \"Aplicar Filtros\"]')      \n",
    "        click_pesquisa_proc.click()\n",
    "        wait = WebDriverWait(driver, 10)\n",
    "        setor_processo = wait.until(\n",
    "            EC.presence_of_element_located(\n",
    "                (By.XPATH, '//div[contains(normalize-space(text()), \"Setor Atual:\")]')))\n",
    "        \n",
    "        setor = setor_processo.text\n",
    "        local_processos4.append(setor)\n",
    "        sleep(1)\n",
    "        \n",
    "        clicar_filtro = driver.find_element(\n",
    "            By.XPATH, '//*[@id=\"q-app\"]/div/div/div[3]/div/div[1]/div/main/div[2]/div/div/div[2]/button/span[2]/span/span').click()\n",
    "        sleep(1)\n",
    "        limpar_filtro = driver.find_element(\n",
    "            By.XPATH, '//span[@class=\"block\"][text()= \"Limpar Filtros\"]').click()\n",
    "        sleep(1)\n",
    "        \n",
    "# Chamando a função\n",
    "verificar_procesos(processos_pae4)\n",
    "# finalizado pae4\n",
    "driver.quit()"
   ]
  },
  {
   "cell_type": "code",
   "execution_count": 22,
   "metadata": {},
   "outputs": [],
   "source": [
    "# Tratamento para retirar apenas o setor onde os processos se encontram\n",
    "localizacao_pae4 = []\n",
    "\n",
    "for setor in local_processos4:\n",
    "    localizacao_pae4.append(setor.split(' - ')[-2].strip().split('-')[0])"
   ]
  },
  {
   "cell_type": "code",
   "execution_count": 23,
   "metadata": {},
   "outputs": [],
   "source": [
    "# Realizando a junção do 'E-' ao numero do processo\n",
    "processos_pae4 = ['E-' + ano for ano in processos_pae4]"
   ]
  },
  {
   "cell_type": "code",
   "execution_count": 24,
   "metadata": {},
   "outputs": [
    {
     "data": {
      "text/html": [
       "<div>\n",
       "<style scoped>\n",
       "    .dataframe tbody tr th:only-of-type {\n",
       "        vertical-align: middle;\n",
       "    }\n",
       "\n",
       "    .dataframe tbody tr th {\n",
       "        vertical-align: top;\n",
       "    }\n",
       "\n",
       "    .dataframe thead th {\n",
       "        text-align: right;\n",
       "    }\n",
       "</style>\n",
       "<table border=\"1\" class=\"dataframe\">\n",
       "  <thead>\n",
       "    <tr style=\"text-align: right;\">\n",
       "      <th></th>\n",
       "      <th>Nº DO PROCESSO</th>\n",
       "      <th>LOCALIZAÇÃO</th>\n",
       "    </tr>\n",
       "  </thead>\n",
       "  <tbody>\n",
       "    <tr>\n",
       "      <th>0</th>\n",
       "      <td>E-2022/2004008</td>\n",
       "      <td>DAF</td>\n",
       "    </tr>\n",
       "    <tr>\n",
       "      <th>1</th>\n",
       "      <td>E-2022/2002731</td>\n",
       "      <td>CORI</td>\n",
       "    </tr>\n",
       "    <tr>\n",
       "      <th>2</th>\n",
       "      <td>E-2023/2026174</td>\n",
       "      <td>SCOM</td>\n",
       "    </tr>\n",
       "    <tr>\n",
       "      <th>3</th>\n",
       "      <td>E-2023/2122216</td>\n",
       "      <td>CJUR</td>\n",
       "    </tr>\n",
       "    <tr>\n",
       "      <th>4</th>\n",
       "      <td>E-2023/2001044</td>\n",
       "      <td>NCIN</td>\n",
       "    </tr>\n",
       "    <tr>\n",
       "      <th>5</th>\n",
       "      <td>E-2023/2028918</td>\n",
       "      <td>CORI</td>\n",
       "    </tr>\n",
       "    <tr>\n",
       "      <th>6</th>\n",
       "      <td>E-2023/2046962</td>\n",
       "      <td>SCOM</td>\n",
       "    </tr>\n",
       "    <tr>\n",
       "      <th>7</th>\n",
       "      <td>E-2023/2100684</td>\n",
       "      <td>NCIN</td>\n",
       "    </tr>\n",
       "    <tr>\n",
       "      <th>8</th>\n",
       "      <td>E-2023/2120254</td>\n",
       "      <td>COFI</td>\n",
       "    </tr>\n",
       "    <tr>\n",
       "      <th>9</th>\n",
       "      <td>E-2023/2142920</td>\n",
       "      <td>DAF</td>\n",
       "    </tr>\n",
       "    <tr>\n",
       "      <th>10</th>\n",
       "      <td>E-2023/2135573</td>\n",
       "      <td>DAF</td>\n",
       "    </tr>\n",
       "    <tr>\n",
       "      <th>11</th>\n",
       "      <td>E-2023/2112190</td>\n",
       "      <td>DAF</td>\n",
       "    </tr>\n",
       "    <tr>\n",
       "      <th>12</th>\n",
       "      <td>E-2023/2168983</td>\n",
       "      <td>CORV</td>\n",
       "    </tr>\n",
       "    <tr>\n",
       "      <th>13</th>\n",
       "      <td>E-2023/2151450</td>\n",
       "      <td>NCIN</td>\n",
       "    </tr>\n",
       "    <tr>\n",
       "      <th>14</th>\n",
       "      <td>E-2023/2160711</td>\n",
       "      <td>ALMOX</td>\n",
       "    </tr>\n",
       "    <tr>\n",
       "      <th>15</th>\n",
       "      <td>E-2023/2124159</td>\n",
       "      <td>DAF</td>\n",
       "    </tr>\n",
       "    <tr>\n",
       "      <th>16</th>\n",
       "      <td>E-2023/2163719</td>\n",
       "      <td>SAENG</td>\n",
       "    </tr>\n",
       "    <tr>\n",
       "      <th>17</th>\n",
       "      <td>E-2023/2217102</td>\n",
       "      <td>COLG</td>\n",
       "    </tr>\n",
       "    <tr>\n",
       "      <th>18</th>\n",
       "      <td>E-2023/2217114</td>\n",
       "      <td>COLG</td>\n",
       "    </tr>\n",
       "    <tr>\n",
       "      <th>19</th>\n",
       "      <td>E-2023/2225662</td>\n",
       "      <td>DAF</td>\n",
       "    </tr>\n",
       "  </tbody>\n",
       "</table>\n",
       "</div>"
      ],
      "text/plain": [
       "    Nº DO PROCESSO LOCALIZAÇÃO\n",
       "0   E-2022/2004008         DAF\n",
       "1   E-2022/2002731        CORI\n",
       "2   E-2023/2026174        SCOM\n",
       "3   E-2023/2122216        CJUR\n",
       "4   E-2023/2001044        NCIN\n",
       "5   E-2023/2028918        CORI\n",
       "6   E-2023/2046962        SCOM\n",
       "7   E-2023/2100684        NCIN\n",
       "8   E-2023/2120254        COFI\n",
       "9   E-2023/2142920         DAF\n",
       "10  E-2023/2135573         DAF\n",
       "11  E-2023/2112190         DAF\n",
       "12  E-2023/2168983        CORV\n",
       "13  E-2023/2151450        NCIN\n",
       "14  E-2023/2160711       ALMOX\n",
       "15  E-2023/2124159         DAF\n",
       "16  E-2023/2163719       SAENG\n",
       "17  E-2023/2217102        COLG\n",
       "18  E-2023/2217114        COLG\n",
       "19  E-2023/2225662         DAF"
      ]
     },
     "execution_count": 24,
     "metadata": {},
     "output_type": "execute_result"
    }
   ],
   "source": [
    "'''Criação de um dicionário com os dados para construção de um dataframe com \n",
    "dados do processo PAE4 e a localização atualizada'''\n",
    "\n",
    "data_proc_pae4 = {'Nº DO PROCESSO': processos_pae4, 'LOCALIZAÇÃO': localizacao_pae4}\n",
    "tabela_localizacao_pae4 = pd.DataFrame(data_proc_pae4)"
   ]
  },
  {
   "cell_type": "markdown",
   "metadata": {},
   "source": [
    "**FINALIZAÇÃO DO PROCESSO DE ATUALIZAÇÃO DOS LOCAIS DOS PROCESSOS NO SISTEM PAE**"
   ]
  },
  {
   "cell_type": "code",
   "execution_count": 25,
   "metadata": {},
   "outputs": [],
   "source": [
    "# Concatenar os dataframes PAE3 e PAE4\n",
    "relacao_proc_localizacao_df = pd.concat(\n",
    "    [tabela_localizacao_pae3, tabela_localizacao_pae4], ignore_index=True, sort=False)"
   ]
  },
  {
   "cell_type": "code",
   "execution_count": 27,
   "metadata": {},
   "outputs": [],
   "source": [
    "# Salvar dataframe no formato excel\n",
    "relacao_proc_localizacao_df.to_excel('planilha_localizacao.xlsx', index=False)\n"
   ]
  },
  {
   "cell_type": "code",
   "execution_count": 28,
   "metadata": {},
   "outputs": [
    {
     "name": "stdout",
     "output_type": "stream",
     "text": [
      "Verificação dos processos no PAE realizada com sucesso!\n"
     ]
    }
   ],
   "source": [
    "print('Verificação dos processos no PAE realizada com sucesso!')"
   ]
  }
 ],
 "metadata": {
  "kernelspec": {
   "display_name": "Python 3",
   "language": "python",
   "name": "python3"
  },
  "language_info": {
   "codemirror_mode": {
    "name": "ipython",
    "version": 3
   },
   "file_extension": ".py",
   "mimetype": "text/x-python",
   "name": "python",
   "nbconvert_exporter": "python",
   "pygments_lexer": "ipython3",
   "version": "3.10.11"
  },
  "orig_nbformat": 4
 },
 "nbformat": 4,
 "nbformat_minor": 2
}
